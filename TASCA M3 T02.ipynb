{
 "cells": [
  {
   "cell_type": "code",
   "execution_count": 1,
   "id": "580fc081",
   "metadata": {},
   "outputs": [],
   "source": [
    "import pandas as pd\n",
    "import numpy as np\n",
    "from datetime import datetime"
   ]
  },
  {
   "cell_type": "code",
   "execution_count": 2,
   "id": "e136d7b5",
   "metadata": {},
   "outputs": [],
   "source": [
    "df = pd.read_csv('C:\\DelayedFlights.csv', index_col=0)"
   ]
  },
  {
   "cell_type": "code",
   "execution_count": 3,
   "id": "7b7344ca",
   "metadata": {},
   "outputs": [
    {
     "data": {
      "text/plain": [
       "1936758"
      ]
     },
     "execution_count": 3,
     "metadata": {},
     "output_type": "execute_result"
    }
   ],
   "source": [
    "# abans de reduir la dimensió de la mostra vull comprobar si hi ha elements \n",
    "# duplicats\n",
    "len(df)"
   ]
  },
  {
   "cell_type": "code",
   "execution_count": 4,
   "id": "b7320222",
   "metadata": {},
   "outputs": [
    {
     "data": {
      "text/plain": [
       "1936756"
      ]
     },
     "execution_count": 4,
     "metadata": {},
     "output_type": "execute_result"
    }
   ],
   "source": [
    "# elimino els elements duplicats, torno a demanar el tamany del dataframe i veig\n",
    "# que hi ha dos registres menys, per tant sí que hi havia elements duplicats.\n",
    "\n",
    "dfclean = df.drop_duplicates()\n",
    "len(dfclean) == len(df)\n",
    "len(dfclean)"
   ]
  },
  {
   "cell_type": "markdown",
   "id": "50c51d0b",
   "metadata": {},
   "source": [
    "### Exercici 1\n",
    "#### Descarrega el data set Airlines Delay: Airline on-time statistics and delay causes i carrega’l a un Pandas Dataframe. Explora les dades que conté, explica breument quines variables hi ha i queda’t únicament amb les columnes que consideris rellevants. Justifica la teva elecció. Redueix la dimensió del dataset de manera aleatòria per tal d'obtenir un dataset de només 200.000 registres. Tots els exercicis s'han de fer amb aquest dataset reduït."
   ]
  },
  {
   "cell_type": "markdown",
   "id": "83e8720f",
   "metadata": {},
   "source": [
    "Les variables que hi ha són: any, mes, dia del mes, dia de la setmana, hora de sortida, CRSDeptime és una declaració legal que permet la sortida de l'avió després de fer el manteniment. l'hora d'arribada,CRS ArrTime la certificació de l'hora d'arribada, flight num és el número de vol, tail num és el número de cua de l'avió, actual elapsed time és el temps que l'avió pasa a l'aire, crse lapsed time és l'estimació de temps de vol, air time és el temps des que l'avió abandona la superfície de recolçament fins que toca terra. Origin és d'es d'on surt l'avió, Destination és on aterra, Distance és la distància. Unique Carrier són les aerolínies. TaxiIn y TaxiOut són el temps que l'avió passa a terra abans d'enlairar-se o d'arribar al punt final.\n",
    " Cancelled, vol dir vol cancelat i el codi de cancelació. Diverted vol dir que l'avió no ha pogut arribar a la seva destinació final. Carrier Delay vol dir problemes de manteniment o circulació. WeatherDelay és el retard per motiu de temps. NAS delay vol dir una demora que podria corregir-se amb mesures correctives per part dels aeroports i de l'autoritat reguladora de l'aviació. Security delay vol dir la demora de seguretat o el reembarcament per violacions de seguretat.Late aircraft delay vol dir la demora a l'arribada a un aeroport perque ha arribat tard a un aeroport anterior."
   ]
  },
  {
   "cell_type": "code",
   "execution_count": 5,
   "id": "7da41292",
   "metadata": {},
   "outputs": [
    {
     "name": "stdout",
     "output_type": "stream",
     "text": [
      "<class 'pandas.core.frame.DataFrame'>\n",
      "Int64Index: 200000 entries, 3479625 to 1070079\n",
      "Data columns (total 29 columns):\n",
      " #   Column             Non-Null Count   Dtype  \n",
      "---  ------             --------------   -----  \n",
      " 0   Year               200000 non-null  int64  \n",
      " 1   Month              200000 non-null  int64  \n",
      " 2   DayofMonth         200000 non-null  int64  \n",
      " 3   DayOfWeek          200000 non-null  int64  \n",
      " 4   DepTime            200000 non-null  float64\n",
      " 5   CRSDepTime         200000 non-null  int64  \n",
      " 6   ArrTime            199259 non-null  float64\n",
      " 7   CRSArrTime         200000 non-null  int64  \n",
      " 8   UniqueCarrier      200000 non-null  object \n",
      " 9   FlightNum          200000 non-null  int64  \n",
      " 10  TailNum            199998 non-null  object \n",
      " 11  ActualElapsedTime  199121 non-null  float64\n",
      " 12  CRSElapsedTime     199983 non-null  float64\n",
      " 13  AirTime            199121 non-null  float64\n",
      " 14  ArrDelay           199121 non-null  float64\n",
      " 15  DepDelay           200000 non-null  float64\n",
      " 16  Origin             200000 non-null  object \n",
      " 17  Dest               200000 non-null  object \n",
      " 18  Distance           200000 non-null  int64  \n",
      " 19  TaxiIn             199259 non-null  float64\n",
      " 20  TaxiOut            199948 non-null  float64\n",
      " 21  Cancelled          200000 non-null  int64  \n",
      " 22  CancellationCode   200000 non-null  object \n",
      " 23  Diverted           200000 non-null  int64  \n",
      " 24  CarrierDelay       128909 non-null  float64\n",
      " 25  WeatherDelay       128909 non-null  float64\n",
      " 26  NASDelay           128909 non-null  float64\n",
      " 27  SecurityDelay      128909 non-null  float64\n",
      " 28  LateAircraftDelay  128909 non-null  float64\n",
      "dtypes: float64(14), int64(10), object(5)\n",
      "memory usage: 45.8+ MB\n"
     ]
    }
   ],
   "source": [
    "# Redueixo el Dataset per obtenir 200000 registres de forma aleatòria\n",
    "df2 = dfclean.sample(n=200000).copy()\n",
    "len(df2)\n",
    "# també trec informació completa de totes les columnes,\n",
    "# la quantitat de valors nuls i no nuls i el tipus de variables.\n",
    "df2.info()"
   ]
  },
  {
   "cell_type": "code",
   "execution_count": 6,
   "id": "48ecd54b",
   "metadata": {},
   "outputs": [],
   "source": [
    "# he creat una nova columna per saber el temps total de vol, incloent el temps que l'avió passa a l'aira\n",
    "# i el rodament de sortida i el rodament d'arribada.\n",
    "\n",
    "df2.insert(4,'TotalTime',df2['AirTime']+df2['TaxiIn']+df2['TaxiOut'])\n",
    "\n",
    "# per evitar que hi hagi molts decimals faig arrodoniment.\n",
    "\n",
    "df2['TotalTime'] = df2['TotalTime'].round(2)\n",
    "\n",
    "# he creat una nova columna amb la combinació d'origin i \n",
    "#dest per poder saber quines rutes són les més llargues o més curtes\n",
    "\n",
    "df2.insert(5,'Rute',df2['Origin'].str.cat(df2['Dest'], sep='-'))"
   ]
  },
  {
   "cell_type": "code",
   "execution_count": 7,
   "id": "5a033b72",
   "metadata": {},
   "outputs": [],
   "source": [
    "# canvio els dies de la setmana en número pel nom, crec que és més entenedor\n",
    "\n",
    "days = {1:'Monday',2:'Tuesday',3:'Wednesday',4:'Thursday',5:'Friday',6:'Saturday',7:'Sunday'}\n",
    "df2['DayOfWeek'] = df2['DayOfWeek'].map(days)\n",
    "\n",
    "# canvio els dies dels mesos per els noms.\n",
    "\n",
    "months = {1:'Jan', 2:'Feb', 3:'Mar', 4:'Apr', 5:'May', 6:'Jun', 7:'Jul', 8:'Aug', 9:'Sep', 10:'Oct', 11:'Nov', 12:'Dec'}\n",
    "df2['Month'] = df2['Month'].map(months)"
   ]
  },
  {
   "cell_type": "markdown",
   "id": "d0d30785",
   "metadata": {},
   "source": [
    "Tal com diuen a un dels tutorials una de las primeres columnes que es poden eliminar són les columnes amb més valors nuls, en aquest cas serien CarrierDelay, WeatherDelay, NASDelay, SecurityDelay,LateAircraftDelay. A més aquestes dades estarien duplicades amb les dades ArrDelay i DepDelay, també tenim dades duplicades a FlightNum i a TailNum, els dos serveixen per registrar el tipus d'avió, pero no cal tenir les dues. Per l'altre banda un cop he creat una nova columna amb el temps total, TaxiIn i Taxi Out deixen de ser importants, ara bé, no esborraré AirTime perque necessitaré aquesta informació per ver la velocitat mitjana de vol."
   ]
  },
  {
   "cell_type": "code",
   "execution_count": 8,
   "id": "2e1ada8a",
   "metadata": {},
   "outputs": [],
   "source": [
    "df2 = df2.drop(['CRSDepTime','CRSArrTime','CRSElapsedTime','ActualElapsedTime','TaxiIn','TaxiOut','FlightNum','CarrierDelay','WeatherDelay','NASDelay','SecurityDelay','LateAircraftDelay','CancellationCode'], axis =1)\n"
   ]
  },
  {
   "cell_type": "code",
   "execution_count": 9,
   "id": "89a94394",
   "metadata": {},
   "outputs": [
    {
     "data": {
      "text/html": [
       "<div>\n",
       "<style scoped>\n",
       "    .dataframe tbody tr th:only-of-type {\n",
       "        vertical-align: middle;\n",
       "    }\n",
       "\n",
       "    .dataframe tbody tr th {\n",
       "        vertical-align: top;\n",
       "    }\n",
       "\n",
       "    .dataframe thead th {\n",
       "        text-align: right;\n",
       "    }\n",
       "</style>\n",
       "<table border=\"1\" class=\"dataframe\">\n",
       "  <thead>\n",
       "    <tr style=\"text-align: right;\">\n",
       "      <th></th>\n",
       "      <th>Year</th>\n",
       "      <th>Month</th>\n",
       "      <th>DayofMonth</th>\n",
       "      <th>DayOfWeek</th>\n",
       "      <th>TotalTime</th>\n",
       "      <th>Rute</th>\n",
       "      <th>DepTime</th>\n",
       "      <th>ArrTime</th>\n",
       "      <th>UniqueCarrier</th>\n",
       "      <th>TailNum</th>\n",
       "      <th>AirTime</th>\n",
       "      <th>ArrDelay</th>\n",
       "      <th>DepDelay</th>\n",
       "      <th>Origin</th>\n",
       "      <th>Dest</th>\n",
       "      <th>Distance</th>\n",
       "      <th>Cancelled</th>\n",
       "      <th>Diverted</th>\n",
       "    </tr>\n",
       "  </thead>\n",
       "  <tbody>\n",
       "    <tr>\n",
       "      <th>3479625</th>\n",
       "      <td>2008</td>\n",
       "      <td>Jun</td>\n",
       "      <td>14</td>\n",
       "      <td>Saturday</td>\n",
       "      <td>123.0</td>\n",
       "      <td>ORD-LGA</td>\n",
       "      <td>745.0</td>\n",
       "      <td>1048.0</td>\n",
       "      <td>AA</td>\n",
       "      <td>N585AA</td>\n",
       "      <td>103.0</td>\n",
       "      <td>13.0</td>\n",
       "      <td>15.0</td>\n",
       "      <td>ORD</td>\n",
       "      <td>LGA</td>\n",
       "      <td>733</td>\n",
       "      <td>0</td>\n",
       "      <td>0</td>\n",
       "    </tr>\n",
       "    <tr>\n",
       "      <th>3973573</th>\n",
       "      <td>2008</td>\n",
       "      <td>Jul</td>\n",
       "      <td>6</td>\n",
       "      <td>Sunday</td>\n",
       "      <td>359.0</td>\n",
       "      <td>BWI-SEA</td>\n",
       "      <td>2009.0</td>\n",
       "      <td>2308.0</td>\n",
       "      <td>FL</td>\n",
       "      <td>N285AT</td>\n",
       "      <td>318.0</td>\n",
       "      <td>28.0</td>\n",
       "      <td>10.0</td>\n",
       "      <td>BWI</td>\n",
       "      <td>SEA</td>\n",
       "      <td>2335</td>\n",
       "      <td>0</td>\n",
       "      <td>0</td>\n",
       "    </tr>\n",
       "    <tr>\n",
       "      <th>687892</th>\n",
       "      <td>2008</td>\n",
       "      <td>Feb</td>\n",
       "      <td>27</td>\n",
       "      <td>Wednesday</td>\n",
       "      <td>112.0</td>\n",
       "      <td>TPA-IAD</td>\n",
       "      <td>1236.0</td>\n",
       "      <td>1428.0</td>\n",
       "      <td>WN</td>\n",
       "      <td>N399WN</td>\n",
       "      <td>99.0</td>\n",
       "      <td>68.0</td>\n",
       "      <td>81.0</td>\n",
       "      <td>TPA</td>\n",
       "      <td>IAD</td>\n",
       "      <td>810</td>\n",
       "      <td>0</td>\n",
       "      <td>0</td>\n",
       "    </tr>\n",
       "    <tr>\n",
       "      <th>5167223</th>\n",
       "      <td>2008</td>\n",
       "      <td>Sep</td>\n",
       "      <td>11</td>\n",
       "      <td>Thursday</td>\n",
       "      <td>130.0</td>\n",
       "      <td>ATL-DFW</td>\n",
       "      <td>1900.0</td>\n",
       "      <td>2010.0</td>\n",
       "      <td>FL</td>\n",
       "      <td>N915AT</td>\n",
       "      <td>103.0</td>\n",
       "      <td>-1.0</td>\n",
       "      <td>6.0</td>\n",
       "      <td>ATL</td>\n",
       "      <td>DFW</td>\n",
       "      <td>732</td>\n",
       "      <td>0</td>\n",
       "      <td>0</td>\n",
       "    </tr>\n",
       "    <tr>\n",
       "      <th>3517919</th>\n",
       "      <td>2008</td>\n",
       "      <td>Jun</td>\n",
       "      <td>20</td>\n",
       "      <td>Friday</td>\n",
       "      <td>61.0</td>\n",
       "      <td>MIA-TPA</td>\n",
       "      <td>1737.0</td>\n",
       "      <td>1838.0</td>\n",
       "      <td>AA</td>\n",
       "      <td>N3CAAA</td>\n",
       "      <td>43.0</td>\n",
       "      <td>178.0</td>\n",
       "      <td>177.0</td>\n",
       "      <td>MIA</td>\n",
       "      <td>TPA</td>\n",
       "      <td>204</td>\n",
       "      <td>0</td>\n",
       "      <td>0</td>\n",
       "    </tr>\n",
       "  </tbody>\n",
       "</table>\n",
       "</div>"
      ],
      "text/plain": [
       "         Year Month  DayofMonth  DayOfWeek  TotalTime     Rute  DepTime  \\\n",
       "3479625  2008   Jun          14   Saturday      123.0  ORD-LGA    745.0   \n",
       "3973573  2008   Jul           6     Sunday      359.0  BWI-SEA   2009.0   \n",
       "687892   2008   Feb          27  Wednesday      112.0  TPA-IAD   1236.0   \n",
       "5167223  2008   Sep          11   Thursday      130.0  ATL-DFW   1900.0   \n",
       "3517919  2008   Jun          20     Friday       61.0  MIA-TPA   1737.0   \n",
       "\n",
       "         ArrTime UniqueCarrier TailNum  AirTime  ArrDelay  DepDelay Origin  \\\n",
       "3479625   1048.0            AA  N585AA    103.0      13.0      15.0    ORD   \n",
       "3973573   2308.0            FL  N285AT    318.0      28.0      10.0    BWI   \n",
       "687892    1428.0            WN  N399WN     99.0      68.0      81.0    TPA   \n",
       "5167223   2010.0            FL  N915AT    103.0      -1.0       6.0    ATL   \n",
       "3517919   1838.0            AA  N3CAAA     43.0     178.0     177.0    MIA   \n",
       "\n",
       "        Dest  Distance  Cancelled  Diverted  \n",
       "3479625  LGA       733          0         0  \n",
       "3973573  SEA      2335          0         0  \n",
       "687892   IAD       810          0         0  \n",
       "5167223  DFW       732          0         0  \n",
       "3517919  TPA       204          0         0  "
      ]
     },
     "execution_count": 9,
     "metadata": {},
     "output_type": "execute_result"
    }
   ],
   "source": [
    "df2.head()"
   ]
  },
  {
   "cell_type": "markdown",
   "id": "dcb0edae",
   "metadata": {},
   "source": [
    "### Exercici 2 \n",
    "#### Fes un informe complet del dataset:\n",
    "\n",
    "Resumeix estadísticament el dataset i les columnes d’interès. Fes una anàlisi estadístic del que consideris rellevant.\n",
    "Troba quantes dades faltants hi ha per columna.\n",
    "Crea columnes noves (velocitat mitjana del vol, si ha arribat tard o no...).\n",
    "Fes una taula de les aerolínies amb més endarreriments acumulats.\n",
    "Quins són els vols més llargs? I els més endarrerits? Busca les rutes més llargues i les que acumulen més retards.\n",
    "Aporta allò que consideris rellevant."
   ]
  },
  {
   "cell_type": "code",
   "execution_count": 10,
   "id": "0db67d7c",
   "metadata": {},
   "outputs": [
    {
     "data": {
      "text/html": [
       "<div>\n",
       "<style scoped>\n",
       "    .dataframe tbody tr th:only-of-type {\n",
       "        vertical-align: middle;\n",
       "    }\n",
       "\n",
       "    .dataframe tbody tr th {\n",
       "        vertical-align: top;\n",
       "    }\n",
       "\n",
       "    .dataframe thead th {\n",
       "        text-align: right;\n",
       "    }\n",
       "</style>\n",
       "<table border=\"1\" class=\"dataframe\">\n",
       "  <thead>\n",
       "    <tr style=\"text-align: right;\">\n",
       "      <th></th>\n",
       "      <th>TotalTime</th>\n",
       "      <th>AirTime</th>\n",
       "      <th>ArrDelay</th>\n",
       "      <th>DepDelay</th>\n",
       "      <th>Distance</th>\n",
       "    </tr>\n",
       "  </thead>\n",
       "  <tbody>\n",
       "    <tr>\n",
       "      <th>count</th>\n",
       "      <td>199121.00</td>\n",
       "      <td>199121.00</td>\n",
       "      <td>199121.00</td>\n",
       "      <td>200000.00</td>\n",
       "      <td>200000.00</td>\n",
       "    </tr>\n",
       "    <tr>\n",
       "      <th>mean</th>\n",
       "      <td>133.37</td>\n",
       "      <td>108.38</td>\n",
       "      <td>42.25</td>\n",
       "      <td>43.26</td>\n",
       "      <td>766.70</td>\n",
       "    </tr>\n",
       "    <tr>\n",
       "      <th>std</th>\n",
       "      <td>72.10</td>\n",
       "      <td>68.70</td>\n",
       "      <td>56.58</td>\n",
       "      <td>53.25</td>\n",
       "      <td>574.91</td>\n",
       "    </tr>\n",
       "    <tr>\n",
       "      <th>min</th>\n",
       "      <td>18.00</td>\n",
       "      <td>1.00</td>\n",
       "      <td>-63.00</td>\n",
       "      <td>6.00</td>\n",
       "      <td>31.00</td>\n",
       "    </tr>\n",
       "    <tr>\n",
       "      <th>25%</th>\n",
       "      <td>80.00</td>\n",
       "      <td>58.00</td>\n",
       "      <td>9.00</td>\n",
       "      <td>12.00</td>\n",
       "      <td>338.00</td>\n",
       "    </tr>\n",
       "    <tr>\n",
       "      <th>50%</th>\n",
       "      <td>116.00</td>\n",
       "      <td>90.00</td>\n",
       "      <td>24.00</td>\n",
       "      <td>24.00</td>\n",
       "      <td>607.00</td>\n",
       "    </tr>\n",
       "    <tr>\n",
       "      <th>75%</th>\n",
       "      <td>165.00</td>\n",
       "      <td>137.00</td>\n",
       "      <td>56.00</td>\n",
       "      <td>54.00</td>\n",
       "      <td>998.00</td>\n",
       "    </tr>\n",
       "    <tr>\n",
       "      <th>max</th>\n",
       "      <td>667.00</td>\n",
       "      <td>644.00</td>\n",
       "      <td>1350.00</td>\n",
       "      <td>1358.00</td>\n",
       "      <td>4962.00</td>\n",
       "    </tr>\n",
       "  </tbody>\n",
       "</table>\n",
       "</div>"
      ],
      "text/plain": [
       "       TotalTime    AirTime   ArrDelay   DepDelay   Distance\n",
       "count  199121.00  199121.00  199121.00  200000.00  200000.00\n",
       "mean      133.37     108.38      42.25      43.26     766.70\n",
       "std        72.10      68.70      56.58      53.25     574.91\n",
       "min        18.00       1.00     -63.00       6.00      31.00\n",
       "25%        80.00      58.00       9.00      12.00     338.00\n",
       "50%       116.00      90.00      24.00      24.00     607.00\n",
       "75%       165.00     137.00      56.00      54.00     998.00\n",
       "max       667.00     644.00    1350.00    1358.00    4962.00"
      ]
     },
     "execution_count": 10,
     "metadata": {},
     "output_type": "execute_result"
    }
   ],
   "source": [
    "# per fer l'anàlisi he eliminat les columnes d'any, mes, hora d'arribada, hora de sortida, vols cancelats i vols que no arriben\n",
    "# al destí. D'aquesta manera em puc centrar als endarreriments de sortida, d'arribada, la distància i el temps de vol i el temps\n",
    "# total\n",
    "df3 = df2.drop(['Year','DayofMonth','DepTime','ArrTime','Cancelled','Diverted'], axis=1)\n",
    "df3.describe().round(2)"
   ]
  },
  {
   "cell_type": "markdown",
   "id": "a42553f1",
   "metadata": {},
   "source": [
    "Si mirem els percentils veiem que en quant a duració de vol, el 25% es troba per sota dels 80 minuts, el 50% es troba per sota del 116 minuts i el 75% es troba per sota dels 165 minuts, i el màxim es troba als 667, per lo que es pot deduir que el tràfic es concentra més en tràfic proper vers tràfic internacional que tindria més duració de vol. Air time segueix també aquest patró pero els minuts del 25%,50% y 75%, amb 58 minuts, 90 minuts i 137 minuts respectivament. Això també estaria relacionat amb la Distància recorreguda. El 25% es troba per sota de 338 milles, uns 543 km, el 50% es troba per sota dels 607 milles, 976 km i el 75% es troba per sota de 998 milles, 1606.125 km, però la distància màxima d'una ruta són 4962 milles, uns 7985.5 km.\n",
    "\n",
    "Si mirem els percentils amb els retrasos. En quant a arribades, el 25% dels avions es troba per sota dels 9 minuts, el 50% dels avions es troba per sota dels 24 minuts i el 75% dels avions es troba per sota dels 56 minuts, per tant la majoria d'endarreriments es troba dins d'un hora, per tant el màxim que veiem de 1350 minuts es pot considerar excepcional. En quant a les sortides, sabem que cap avió surt a l'hora, com a mínim hi ha un retràs de 6 minuts. Ara bé, un 25% dels avions es troba per sota dels 12 minuts, un 50% es troba per sota dels 24 minuts, i un 75% es troba per sota dels 53 minuts.\n",
    "\n",
    "És curiós que la mitja de l'hora d'arribada i l'hora de sortida amb vols cancelats és quasi bé el mateix, d'uns 42 i 43 minuts. \n",
    "\n",
    "Considerable també és el màxim de temps d'endarreriment, 1350 minuts de l'arribada (unes 22.5 hores) i 1358 en el cas de les sortides (22.63 hores), en el cas de mínim cal veure que cap avió ha sortit a l'hora, com a mínim hi ha un retràs de 6 minuts, mentre que a les arribades hi ha un avió que ha arribat 63 minuts abans de l'hora convinguda."
   ]
  },
  {
   "cell_type": "code",
   "execution_count": 11,
   "id": "d2e93251",
   "metadata": {},
   "outputs": [
    {
     "data": {
      "text/plain": [
       "Year               0\n",
       "Month              0\n",
       "DayofMonth         0\n",
       "DayOfWeek          0\n",
       "TotalTime        879\n",
       "Rute               0\n",
       "DepTime            0\n",
       "ArrTime          741\n",
       "UniqueCarrier      0\n",
       "TailNum            2\n",
       "AirTime          879\n",
       "ArrDelay         879\n",
       "DepDelay           0\n",
       "Origin             0\n",
       "Dest               0\n",
       "Distance           0\n",
       "Cancelled          0\n",
       "Diverted           0\n",
       "dtype: int64"
      ]
     },
     "execution_count": 11,
     "metadata": {},
     "output_type": "execute_result"
    }
   ],
   "source": [
    "# per saber les dades faltants per columna\n",
    "\n",
    "df2.isnull().sum()"
   ]
  },
  {
   "cell_type": "code",
   "execution_count": 12,
   "id": "519be922",
   "metadata": {},
   "outputs": [
    {
     "data": {
      "text/html": [
       "<div>\n",
       "<style scoped>\n",
       "    .dataframe tbody tr th:only-of-type {\n",
       "        vertical-align: middle;\n",
       "    }\n",
       "\n",
       "    .dataframe tbody tr th {\n",
       "        vertical-align: top;\n",
       "    }\n",
       "\n",
       "    .dataframe thead th {\n",
       "        text-align: right;\n",
       "    }\n",
       "</style>\n",
       "<table border=\"1\" class=\"dataframe\">\n",
       "  <thead>\n",
       "    <tr style=\"text-align: right;\">\n",
       "      <th></th>\n",
       "      <th>Year</th>\n",
       "      <th>Month</th>\n",
       "      <th>DayofMonth</th>\n",
       "      <th>DayOfWeek</th>\n",
       "      <th>TotalTime</th>\n",
       "      <th>VelocitatMitjana</th>\n",
       "      <th>Rute</th>\n",
       "      <th>DepTime</th>\n",
       "      <th>ArrTime</th>\n",
       "      <th>UniqueCarrier</th>\n",
       "      <th>TailNum</th>\n",
       "      <th>AirTime</th>\n",
       "      <th>ArrDelay</th>\n",
       "      <th>DepDelay</th>\n",
       "      <th>Origin</th>\n",
       "      <th>Dest</th>\n",
       "      <th>Distance</th>\n",
       "      <th>Cancelled</th>\n",
       "      <th>Diverted</th>\n",
       "    </tr>\n",
       "  </thead>\n",
       "  <tbody>\n",
       "    <tr>\n",
       "      <th>3479625</th>\n",
       "      <td>2008</td>\n",
       "      <td>Jun</td>\n",
       "      <td>14</td>\n",
       "      <td>Saturday</td>\n",
       "      <td>123.0</td>\n",
       "      <td>7.116505</td>\n",
       "      <td>ORD-LGA</td>\n",
       "      <td>745.0</td>\n",
       "      <td>1048.0</td>\n",
       "      <td>AA</td>\n",
       "      <td>N585AA</td>\n",
       "      <td>103.0</td>\n",
       "      <td>13.0</td>\n",
       "      <td>15.0</td>\n",
       "      <td>ORD</td>\n",
       "      <td>LGA</td>\n",
       "      <td>733</td>\n",
       "      <td>0</td>\n",
       "      <td>0</td>\n",
       "    </tr>\n",
       "    <tr>\n",
       "      <th>3973573</th>\n",
       "      <td>2008</td>\n",
       "      <td>Jul</td>\n",
       "      <td>6</td>\n",
       "      <td>Sunday</td>\n",
       "      <td>359.0</td>\n",
       "      <td>7.342767</td>\n",
       "      <td>BWI-SEA</td>\n",
       "      <td>2009.0</td>\n",
       "      <td>2308.0</td>\n",
       "      <td>FL</td>\n",
       "      <td>N285AT</td>\n",
       "      <td>318.0</td>\n",
       "      <td>28.0</td>\n",
       "      <td>10.0</td>\n",
       "      <td>BWI</td>\n",
       "      <td>SEA</td>\n",
       "      <td>2335</td>\n",
       "      <td>0</td>\n",
       "      <td>0</td>\n",
       "    </tr>\n",
       "    <tr>\n",
       "      <th>687892</th>\n",
       "      <td>2008</td>\n",
       "      <td>Feb</td>\n",
       "      <td>27</td>\n",
       "      <td>Wednesday</td>\n",
       "      <td>112.0</td>\n",
       "      <td>8.181818</td>\n",
       "      <td>TPA-IAD</td>\n",
       "      <td>1236.0</td>\n",
       "      <td>1428.0</td>\n",
       "      <td>WN</td>\n",
       "      <td>N399WN</td>\n",
       "      <td>99.0</td>\n",
       "      <td>68.0</td>\n",
       "      <td>81.0</td>\n",
       "      <td>TPA</td>\n",
       "      <td>IAD</td>\n",
       "      <td>810</td>\n",
       "      <td>0</td>\n",
       "      <td>0</td>\n",
       "    </tr>\n",
       "    <tr>\n",
       "      <th>5167223</th>\n",
       "      <td>2008</td>\n",
       "      <td>Sep</td>\n",
       "      <td>11</td>\n",
       "      <td>Thursday</td>\n",
       "      <td>130.0</td>\n",
       "      <td>7.106796</td>\n",
       "      <td>ATL-DFW</td>\n",
       "      <td>1900.0</td>\n",
       "      <td>2010.0</td>\n",
       "      <td>FL</td>\n",
       "      <td>N915AT</td>\n",
       "      <td>103.0</td>\n",
       "      <td>-1.0</td>\n",
       "      <td>6.0</td>\n",
       "      <td>ATL</td>\n",
       "      <td>DFW</td>\n",
       "      <td>732</td>\n",
       "      <td>0</td>\n",
       "      <td>0</td>\n",
       "    </tr>\n",
       "    <tr>\n",
       "      <th>3517919</th>\n",
       "      <td>2008</td>\n",
       "      <td>Jun</td>\n",
       "      <td>20</td>\n",
       "      <td>Friday</td>\n",
       "      <td>61.0</td>\n",
       "      <td>4.744186</td>\n",
       "      <td>MIA-TPA</td>\n",
       "      <td>1737.0</td>\n",
       "      <td>1838.0</td>\n",
       "      <td>AA</td>\n",
       "      <td>N3CAAA</td>\n",
       "      <td>43.0</td>\n",
       "      <td>178.0</td>\n",
       "      <td>177.0</td>\n",
       "      <td>MIA</td>\n",
       "      <td>TPA</td>\n",
       "      <td>204</td>\n",
       "      <td>0</td>\n",
       "      <td>0</td>\n",
       "    </tr>\n",
       "  </tbody>\n",
       "</table>\n",
       "</div>"
      ],
      "text/plain": [
       "         Year Month  DayofMonth  DayOfWeek  TotalTime  VelocitatMitjana  \\\n",
       "3479625  2008   Jun          14   Saturday      123.0          7.116505   \n",
       "3973573  2008   Jul           6     Sunday      359.0          7.342767   \n",
       "687892   2008   Feb          27  Wednesday      112.0          8.181818   \n",
       "5167223  2008   Sep          11   Thursday      130.0          7.106796   \n",
       "3517919  2008   Jun          20     Friday       61.0          4.744186   \n",
       "\n",
       "            Rute  DepTime  ArrTime UniqueCarrier TailNum  AirTime  ArrDelay  \\\n",
       "3479625  ORD-LGA    745.0   1048.0            AA  N585AA    103.0      13.0   \n",
       "3973573  BWI-SEA   2009.0   2308.0            FL  N285AT    318.0      28.0   \n",
       "687892   TPA-IAD   1236.0   1428.0            WN  N399WN     99.0      68.0   \n",
       "5167223  ATL-DFW   1900.0   2010.0            FL  N915AT    103.0      -1.0   \n",
       "3517919  MIA-TPA   1737.0   1838.0            AA  N3CAAA     43.0     178.0   \n",
       "\n",
       "         DepDelay Origin Dest  Distance  Cancelled  Diverted  \n",
       "3479625      15.0    ORD  LGA       733          0         0  \n",
       "3973573      10.0    BWI  SEA      2335          0         0  \n",
       "687892       81.0    TPA  IAD       810          0         0  \n",
       "5167223       6.0    ATL  DFW       732          0         0  \n",
       "3517919     177.0    MIA  TPA       204          0         0  "
      ]
     },
     "execution_count": 12,
     "metadata": {},
     "output_type": "execute_result"
    }
   ],
   "source": [
    "# velocitat mitjana = distancia / temps \n",
    "# no incloc el taxi in i taxi out perque l'avió està a terra i la seva velocidad és molt baixa.\n",
    "\n",
    "df2.insert(5,'VelocitatMitjana',df2['Distance']/df2['AirTime'])\n",
    "df2.head()"
   ]
  },
  {
   "cell_type": "code",
   "execution_count": 13,
   "id": "002029c7",
   "metadata": {},
   "outputs": [
    {
     "data": {
      "text/html": [
       "<div>\n",
       "<style scoped>\n",
       "    .dataframe tbody tr th:only-of-type {\n",
       "        vertical-align: middle;\n",
       "    }\n",
       "\n",
       "    .dataframe tbody tr th {\n",
       "        vertical-align: top;\n",
       "    }\n",
       "\n",
       "    .dataframe thead th {\n",
       "        text-align: right;\n",
       "    }\n",
       "</style>\n",
       "<table border=\"1\" class=\"dataframe\">\n",
       "  <thead>\n",
       "    <tr style=\"text-align: right;\">\n",
       "      <th></th>\n",
       "      <th>Year</th>\n",
       "      <th>Month</th>\n",
       "      <th>DayofMonth</th>\n",
       "      <th>DayOfWeek</th>\n",
       "      <th>TotalTime</th>\n",
       "      <th>VelocitatMitjana</th>\n",
       "      <th>Rute</th>\n",
       "      <th>DepTime</th>\n",
       "      <th>ArrTime</th>\n",
       "      <th>UniqueCarrier</th>\n",
       "      <th>TailNum</th>\n",
       "      <th>AirTime</th>\n",
       "      <th>ArrDelay</th>\n",
       "      <th>DepDelay</th>\n",
       "      <th>Origin</th>\n",
       "      <th>Dest</th>\n",
       "      <th>Distance</th>\n",
       "      <th>Cancelled</th>\n",
       "      <th>Diverted</th>\n",
       "      <th>Retraso</th>\n",
       "    </tr>\n",
       "  </thead>\n",
       "  <tbody>\n",
       "    <tr>\n",
       "      <th>3479625</th>\n",
       "      <td>2008</td>\n",
       "      <td>Jun</td>\n",
       "      <td>14</td>\n",
       "      <td>Saturday</td>\n",
       "      <td>123.0</td>\n",
       "      <td>7.116505</td>\n",
       "      <td>ORD-LGA</td>\n",
       "      <td>745.0</td>\n",
       "      <td>1048.0</td>\n",
       "      <td>AA</td>\n",
       "      <td>N585AA</td>\n",
       "      <td>103.0</td>\n",
       "      <td>13.0</td>\n",
       "      <td>15.0</td>\n",
       "      <td>ORD</td>\n",
       "      <td>LGA</td>\n",
       "      <td>733</td>\n",
       "      <td>0</td>\n",
       "      <td>0</td>\n",
       "      <td>True</td>\n",
       "    </tr>\n",
       "    <tr>\n",
       "      <th>3973573</th>\n",
       "      <td>2008</td>\n",
       "      <td>Jul</td>\n",
       "      <td>6</td>\n",
       "      <td>Sunday</td>\n",
       "      <td>359.0</td>\n",
       "      <td>7.342767</td>\n",
       "      <td>BWI-SEA</td>\n",
       "      <td>2009.0</td>\n",
       "      <td>2308.0</td>\n",
       "      <td>FL</td>\n",
       "      <td>N285AT</td>\n",
       "      <td>318.0</td>\n",
       "      <td>28.0</td>\n",
       "      <td>10.0</td>\n",
       "      <td>BWI</td>\n",
       "      <td>SEA</td>\n",
       "      <td>2335</td>\n",
       "      <td>0</td>\n",
       "      <td>0</td>\n",
       "      <td>True</td>\n",
       "    </tr>\n",
       "    <tr>\n",
       "      <th>687892</th>\n",
       "      <td>2008</td>\n",
       "      <td>Feb</td>\n",
       "      <td>27</td>\n",
       "      <td>Wednesday</td>\n",
       "      <td>112.0</td>\n",
       "      <td>8.181818</td>\n",
       "      <td>TPA-IAD</td>\n",
       "      <td>1236.0</td>\n",
       "      <td>1428.0</td>\n",
       "      <td>WN</td>\n",
       "      <td>N399WN</td>\n",
       "      <td>99.0</td>\n",
       "      <td>68.0</td>\n",
       "      <td>81.0</td>\n",
       "      <td>TPA</td>\n",
       "      <td>IAD</td>\n",
       "      <td>810</td>\n",
       "      <td>0</td>\n",
       "      <td>0</td>\n",
       "      <td>True</td>\n",
       "    </tr>\n",
       "    <tr>\n",
       "      <th>5167223</th>\n",
       "      <td>2008</td>\n",
       "      <td>Sep</td>\n",
       "      <td>11</td>\n",
       "      <td>Thursday</td>\n",
       "      <td>130.0</td>\n",
       "      <td>7.106796</td>\n",
       "      <td>ATL-DFW</td>\n",
       "      <td>1900.0</td>\n",
       "      <td>2010.0</td>\n",
       "      <td>FL</td>\n",
       "      <td>N915AT</td>\n",
       "      <td>103.0</td>\n",
       "      <td>-1.0</td>\n",
       "      <td>6.0</td>\n",
       "      <td>ATL</td>\n",
       "      <td>DFW</td>\n",
       "      <td>732</td>\n",
       "      <td>0</td>\n",
       "      <td>0</td>\n",
       "      <td>True</td>\n",
       "    </tr>\n",
       "    <tr>\n",
       "      <th>3517919</th>\n",
       "      <td>2008</td>\n",
       "      <td>Jun</td>\n",
       "      <td>20</td>\n",
       "      <td>Friday</td>\n",
       "      <td>61.0</td>\n",
       "      <td>4.744186</td>\n",
       "      <td>MIA-TPA</td>\n",
       "      <td>1737.0</td>\n",
       "      <td>1838.0</td>\n",
       "      <td>AA</td>\n",
       "      <td>N3CAAA</td>\n",
       "      <td>43.0</td>\n",
       "      <td>178.0</td>\n",
       "      <td>177.0</td>\n",
       "      <td>MIA</td>\n",
       "      <td>TPA</td>\n",
       "      <td>204</td>\n",
       "      <td>0</td>\n",
       "      <td>0</td>\n",
       "      <td>True</td>\n",
       "    </tr>\n",
       "  </tbody>\n",
       "</table>\n",
       "</div>"
      ],
      "text/plain": [
       "         Year Month  DayofMonth  DayOfWeek  TotalTime  VelocitatMitjana  \\\n",
       "3479625  2008   Jun          14   Saturday      123.0          7.116505   \n",
       "3973573  2008   Jul           6     Sunday      359.0          7.342767   \n",
       "687892   2008   Feb          27  Wednesday      112.0          8.181818   \n",
       "5167223  2008   Sep          11   Thursday      130.0          7.106796   \n",
       "3517919  2008   Jun          20     Friday       61.0          4.744186   \n",
       "\n",
       "            Rute  DepTime  ArrTime UniqueCarrier TailNum  AirTime  ArrDelay  \\\n",
       "3479625  ORD-LGA    745.0   1048.0            AA  N585AA    103.0      13.0   \n",
       "3973573  BWI-SEA   2009.0   2308.0            FL  N285AT    318.0      28.0   \n",
       "687892   TPA-IAD   1236.0   1428.0            WN  N399WN     99.0      68.0   \n",
       "5167223  ATL-DFW   1900.0   2010.0            FL  N915AT    103.0      -1.0   \n",
       "3517919  MIA-TPA   1737.0   1838.0            AA  N3CAAA     43.0     178.0   \n",
       "\n",
       "         DepDelay Origin Dest  Distance  Cancelled  Diverted  Retraso  \n",
       "3479625      15.0    ORD  LGA       733          0         0     True  \n",
       "3973573      10.0    BWI  SEA      2335          0         0     True  \n",
       "687892       81.0    TPA  IAD       810          0         0     True  \n",
       "5167223       6.0    ATL  DFW       732          0         0     True  \n",
       "3517919     177.0    MIA  TPA       204          0         0     True  "
      ]
     },
     "execution_count": 13,
     "metadata": {},
     "output_type": "execute_result"
    }
   ],
   "source": [
    "# Creo una columna per saber si l'avió arriba amb endarreriment apareixerà True\n",
    "# i si arriba a l'hora apareixerà false.\n",
    "df2['Retraso'] =(df2['ArrDelay'] > 0) | (df2['DepDelay'] > 0)\n",
    "df2.head()"
   ]
  },
  {
   "cell_type": "code",
   "execution_count": 14,
   "id": "8a6176d4",
   "metadata": {
    "scrolled": true
   },
   "outputs": [
    {
     "name": "stdout",
     "output_type": "stream",
     "text": [
      "les 5 rutes més llargues són: \n"
     ]
    },
    {
     "data": {
      "text/plain": [
       "Rute\n",
       "EWR-HNL    4962\n",
       "HNL-EWR    4962\n",
       "HNL-ATL    4502\n",
       "ATL-HNL    4502\n",
       "ORD-HNL    4243\n",
       "Name: Distance, dtype: int64"
      ]
     },
     "execution_count": 14,
     "metadata": {},
     "output_type": "execute_result"
    }
   ],
   "source": [
    "# les 5 rutes amb més llargues:\n",
    "print('les 5 rutes més llargues són: ')\n",
    "df2.groupby(by = \"Rute\")[\"Distance\"].max().sort_values(ascending=False).head(5)"
   ]
  },
  {
   "cell_type": "code",
   "execution_count": 15,
   "id": "b1f50177",
   "metadata": {},
   "outputs": [
    {
     "name": "stdout",
     "output_type": "stream",
     "text": [
      "les 5 rutes més curtes són: \n"
     ]
    },
    {
     "data": {
      "text/plain": [
       "Rute\n",
       "PSG-WRG    31\n",
       "WRG-PSG    31\n",
       "SNA-LAX    36\n",
       "LAX-SNA    36\n",
       "MKG-GRR    41\n",
       "Name: Distance, dtype: int64"
      ]
     },
     "execution_count": 15,
     "metadata": {},
     "output_type": "execute_result"
    }
   ],
   "source": [
    "# les 5 rutes amb menys curtes:\n",
    "print('les 5 rutes més curtes són: ')\n",
    "df2.groupby(by = \"Rute\")[\"Distance\"].min().sort_values(ascending=True).head(5)"
   ]
  },
  {
   "cell_type": "code",
   "execution_count": 16,
   "id": "6cfbaf0b",
   "metadata": {},
   "outputs": [
    {
     "name": "stdout",
     "output_type": "stream",
     "text": [
      "els 5 vols més endarrerits de sortida són :\n"
     ]
    },
    {
     "data": {
      "text/plain": [
       "TailNum\n",
       "N501US    1358.0\n",
       "N583NW    1348.0\n",
       "N4WLAA    1300.0\n",
       "N521US    1258.0\n",
       "N593NW    1193.0\n",
       "Name: DepDelay, dtype: float64"
      ]
     },
     "execution_count": 16,
     "metadata": {},
     "output_type": "execute_result"
    }
   ],
   "source": [
    "# els 5 vols més endarrerits de sortida\n",
    "print('els 5 vols més endarrerits de sortida són :')\n",
    "df2.groupby(by = \"TailNum\")[\"DepDelay\"].max().sort_values(ascending=False).head(5)"
   ]
  },
  {
   "cell_type": "code",
   "execution_count": 17,
   "id": "a9d12d9e",
   "metadata": {},
   "outputs": [
    {
     "name": "stdout",
     "output_type": "stream",
     "text": [
      "els 5 vols més endarrerits darribada són:\n"
     ]
    },
    {
     "data": {
      "text/plain": [
       "TailNum\n",
       "N583NW    1350.0\n",
       "N501US    1344.0\n",
       "N4WLAA    1286.0\n",
       "N521US    1263.0\n",
       "N593NW    1189.0\n",
       "Name: ArrDelay, dtype: float64"
      ]
     },
     "execution_count": 17,
     "metadata": {},
     "output_type": "execute_result"
    }
   ],
   "source": [
    "# els 5 vols més endarrerits d'arribada\n",
    "print('els 5 vols més endarrerits darribada són:')\n",
    "df2.groupby(by = \"TailNum\")[\"ArrDelay\"].max().sort_values(ascending=False).head(5)"
   ]
  },
  {
   "cell_type": "code",
   "execution_count": 18,
   "id": "241fa3dc",
   "metadata": {},
   "outputs": [
    {
     "name": "stdout",
     "output_type": "stream",
     "text": [
      "les aerolínies amb més minuts en demores de sortida són:\n"
     ]
    },
    {
     "data": {
      "text/plain": [
       "UniqueCarrier\n",
       "WN    1161269.0\n",
       "AA     925636.0\n",
       "UA     701549.0\n",
       "MQ     672977.0\n",
       "OO     611040.0\n",
       "Name: ArrDelay, dtype: float64"
      ]
     },
     "execution_count": 18,
     "metadata": {},
     "output_type": "execute_result"
    }
   ],
   "source": [
    "# les 5 aerolínies amb més minuts demores de sortida\n",
    "print('les aerolínies amb més minuts en demores de sortida són:')\n",
    "df2.groupby(by =\"UniqueCarrier\")[\"ArrDelay\"].sum().sort_values(ascending=False).head(5)"
   ]
  },
  {
   "cell_type": "code",
   "execution_count": 19,
   "id": "4c45b5db",
   "metadata": {},
   "outputs": [
    {
     "name": "stdout",
     "output_type": "stream",
     "text": [
      "les aerolínies amb més minuts en demores darribada són:\n"
     ]
    },
    {
     "data": {
      "text/plain": [
       "UniqueCarrier\n",
       "WN    1346215.0\n",
       "AA     923917.0\n",
       "UA     738540.0\n",
       "MQ     655111.0\n",
       "OO     606384.0\n",
       "Name: DepDelay, dtype: float64"
      ]
     },
     "execution_count": 19,
     "metadata": {},
     "output_type": "execute_result"
    }
   ],
   "source": [
    "# les 5 aerolínies amb més minuts en demores d'arribada\n",
    "print('les aerolínies amb més minuts en demores darribada són:')\n",
    "df2.groupby(by=\"UniqueCarrier\")[\"DepDelay\"].sum().sort_values(ascending=False).head(5)"
   ]
  },
  {
   "cell_type": "code",
   "execution_count": 20,
   "id": "6f7d88d2",
   "metadata": {},
   "outputs": [
    {
     "name": "stdout",
     "output_type": "stream",
     "text": [
      "les aerolínies que cancelen més vols són:\n"
     ]
    },
    {
     "data": {
      "text/plain": [
       "UniqueCarrier\n",
       "OO    13\n",
       "MQ    13\n",
       "UA     9\n",
       "9E     6\n",
       "XE     6\n",
       "Name: Cancelled, dtype: int64"
      ]
     },
     "execution_count": 20,
     "metadata": {},
     "output_type": "execute_result"
    }
   ],
   "source": [
    "# les 5 aerolínies que cancelen més vols\n",
    "print('les aerolínies que cancelen més vols són:')\n",
    "df2.groupby(by=\"UniqueCarrier\")['Cancelled'].sum().sort_values(ascending=False).head(5)\n"
   ]
  },
  {
   "cell_type": "code",
   "execution_count": 21,
   "id": "b5a9b699",
   "metadata": {},
   "outputs": [
    {
     "name": "stdout",
     "output_type": "stream",
     "text": [
      "les aerolínies que cancelen menys vols són:\n"
     ]
    },
    {
     "data": {
      "text/plain": [
       "UniqueCarrier\n",
       "FL    0\n",
       "AQ    0\n",
       "AS    0\n",
       "B6    0\n",
       "OH    0\n",
       "Name: Cancelled, dtype: int64"
      ]
     },
     "execution_count": 21,
     "metadata": {},
     "output_type": "execute_result"
    }
   ],
   "source": [
    "# les 5 aerolínies que cancelen menys vols\n",
    "print('les aerolínies que cancelen menys vols són:')\n",
    "df2.groupby(by=\"UniqueCarrier\")['Cancelled'].sum().sort_values(ascending=True).head(5)"
   ]
  },
  {
   "cell_type": "code",
   "execution_count": 23,
   "id": "081f450b",
   "metadata": {},
   "outputs": [
    {
     "name": "stdout",
     "output_type": "stream",
     "text": [
      "les aerolínies amb més endarreriments són:\n"
     ]
    },
    {
     "data": {
      "text/plain": [
       "Rute\n",
       "LAX-SFO    486\n",
       "ORD-LGA    467\n",
       "SFO-LAX    420\n",
       "LAS-LAX    375\n",
       "ORD-EWR    375\n",
       "Name: Retraso, dtype: int64"
      ]
     },
     "execution_count": 23,
     "metadata": {},
     "output_type": "execute_result"
    }
   ],
   "source": [
    "# les 5 rutes amb més endarreriments:\n",
    "print('les aerolínies amb més endarreriments són:')\n",
    "df2.groupby(by=\"Rute\")['Retraso'].sum().sort_values(ascending=False).head(5)"
   ]
  },
  {
   "cell_type": "code",
   "execution_count": 24,
   "id": "f2cdc1cd",
   "metadata": {},
   "outputs": [
    {
     "name": "stdout",
     "output_type": "stream",
     "text": [
      "les aerolínies amb menys endarreriments són:\n"
     ]
    },
    {
     "data": {
      "text/plain": [
       "Rute\n",
       "LAX-SNA    1\n",
       "JAX-PIR    1\n",
       "MSP-PWM    1\n",
       "FSD-PIA    1\n",
       "CVG-CAK    1\n",
       "Name: Retraso, dtype: int64"
      ]
     },
     "execution_count": 24,
     "metadata": {},
     "output_type": "execute_result"
    }
   ],
   "source": [
    "# les 5 rutes amb menys endarriments:\n",
    "print('les aerolínies amb menys endarreriments són:')\n",
    "df2.groupby(by=\"Rute\")['Retraso'].sum().sort_values(ascending=True).head(5)"
   ]
  },
  {
   "cell_type": "markdown",
   "id": "53309dd1",
   "metadata": {},
   "source": [
    "### Exercici 3\n",
    "#### Exporta el dataset net i amb les noves columnes a Excel"
   ]
  },
  {
   "cell_type": "code",
   "execution_count": 26,
   "id": "57177783",
   "metadata": {},
   "outputs": [],
   "source": [
    "df2.to_excel(\"DelayedFlights.xlsx\",\n",
    "            sheet_name = 'Dades')"
   ]
  }
 ],
 "metadata": {
  "kernelspec": {
   "display_name": "Python 3 (ipykernel)",
   "language": "python",
   "name": "python3"
  },
  "language_info": {
   "codemirror_mode": {
    "name": "ipython",
    "version": 3
   },
   "file_extension": ".py",
   "mimetype": "text/x-python",
   "name": "python",
   "nbconvert_exporter": "python",
   "pygments_lexer": "ipython3",
   "version": "3.9.12"
  }
 },
 "nbformat": 4,
 "nbformat_minor": 5
}
